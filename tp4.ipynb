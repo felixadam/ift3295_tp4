{
 "cells": [
  {
   "cell_type": "markdown",
   "metadata": {},
   "source": [
    "# TP4  \n",
    "Félix Adam  \n",
    "Charles-Antoine Lanoix\n",
    "\n",
    "Note: Utiliser la fonction tree.postorderTrav() pour afficher les arbres"
   ]
  },
  {
   "cell_type": "code",
   "execution_count": 202,
   "metadata": {},
   "outputs": [],
   "source": [
    "import numpy as np"
   ]
  },
  {
   "cell_type": "markdown",
   "metadata": {},
   "source": [
    "# Fonctions outils  \n",
    "\n"
   ]
  },
  {
   "cell_type": "code",
   "execution_count": 203,
   "metadata": {},
   "outputs": [],
   "source": [
    "#Prend une liste de listes et remet tous les éléments dans une seule liste\n",
    "def flattenList(l):\n",
    "    outList = []\n",
    "    for i in range(len(l)):\n",
    "        if(l[i]==None):\n",
    "            continue\n",
    "        for j in range(len(l[i])):\n",
    "            if(l[i][j] != None):\n",
    "                outList.append(l[i][j])\n",
    "    return outList"
   ]
  },
  {
   "cell_type": "code",
   "execution_count": 204,
   "metadata": {},
   "outputs": [],
   "source": [
    "#Prend une matrice de distance et calcule la nouvelle en fusionnant les noeud i et j\n",
    "def getNewMatrix(matrix,i,j):\n",
    "    \n",
    "    #trouver les index de la matrices qui ne sont pas i et j\n",
    "    remainingIndexes = []\n",
    "    for k in range(len(matrix)):\n",
    "        if(k != i and k != j):\n",
    "            remainingIndexes.append(k)\n",
    "          \n",
    "    #nouvelle matrice de dimension plus petite\n",
    "    newM = np.diag(np.full((len(matrix)-1,len(matrix)-1),float(\"inf\")).diagonal())\n",
    "    \n",
    "    #réinsérer les distances de l'ancienne matrice dans la nouvelle\n",
    "    #(pour les index encore présents)\n",
    "    for n in range(len(remainingIndexes)):\n",
    "        for m in range(n+1,len(remainingIndexes)):\n",
    "            #print(remainingIndexes[n],remainingIndexes[m])\n",
    "            newM[n,m] = matrix[remainingIndexes[n]][remainingIndexes[m]]\n",
    "            newM[m,n] = newM[n,m]\n",
    "        #print(matrix[i][remainingIndexes[n]],matrix[j][remainingIndexes[n]],matrix[i][j])[:-1]\n",
    "        #ajouter les nouvelles valeurs calculées dans la dernière colonne/ligne\n",
    "        newM[n,-1] = 1/2*(matrix[i][remainingIndexes[n]]+matrix[j][remainingIndexes[n]]-matrix[i][j])\n",
    "        newM[-1,n] = newM[n,-1]\n",
    "        \n",
    "    return newM"
   ]
  },
  {
   "cell_type": "code",
   "execution_count": 205,
   "metadata": {},
   "outputs": [
    {
     "name": "stdout",
     "output_type": "stream",
     "text": [
      "[[inf  1.  2.  3.  4.]\n",
      " [ 1. inf  5.  6.  7.]\n",
      " [ 2.  5. inf  9. 10.]\n",
      " [ 3.  6.  9. inf 11.]\n",
      " [ 4.  7. 10. 11. inf]]\n",
      "[[inf  9. 10.  3.]\n",
      " [ 9. inf 11.  4.]\n",
      " [10. 11. inf  5.]\n",
      " [ 3.  4.  5. inf]]\n"
     ]
    }
   ],
   "source": [
    "#Test de la dernière fonction\n",
    "matrix = [[float(\"inf\"),1,2,3,4],[1,float(\"inf\"),5,6,7],[2,5,float(\"inf\"),9,10],[3,6,9,float(\"inf\"),11],\n",
    "          [4,7,10,11,float(\"inf\")]]\n",
    "matrix = np.array(matrix)\n",
    "print(matrix)\n",
    "matrix = getNewMatrix(matrix,0,1)\n",
    "print(matrix)"
   ]
  },
  {
   "cell_type": "code",
   "execution_count": 206,
   "metadata": {},
   "outputs": [],
   "source": [
    "#Déclaration globale du dictionnaire de la matrice\n",
    "proteinDict = {\n",
    "    'A': 0, 'R': 1, 'N': 2, 'D': 3, 'C': 4, 'Q': 5, 'E': 6, 'G': 7, 'H': 8, 'I': 9, 'L': 10, 'K': 11, 'M': 12, 'F': 13,\n",
    "    'P': 14,'S': 15, 'T': 16, 'W': 17, 'Y': 18, 'V': 19, 'B': 20, 'Z': 21, 'X': 22, '-': 23\n",
    "}\n",
    "\n",
    "def blosumMatrix(input):\n",
    "    blosum = []\n",
    "    with open(input) as file:\n",
    "        blosum = file.readlines()\n",
    "        blosum = [x.strip() for x in blosum] \n",
    "    blosum.pop(0)\n",
    "    for i in range(len(blosum)):\n",
    "        blosum[i] = blosum[i].split()\n",
    "        blosum[i].pop(0)\n",
    "    return blosum\n",
    "\n",
    "blosum = blosumMatrix('BLOSUM62.txt')"
   ]
  },
  {
   "cell_type": "code",
   "execution_count": 207,
   "metadata": {},
   "outputs": [],
   "source": [
    "#Calcul de distance entre deux séquences selon la matrice Blosum62\n",
    "def distanceBlosum(s1,s2):\n",
    "    p = 0\n",
    "    for i in range(0,len(s1)):\n",
    "        p += int(blosum[proteinDict.get(s1[i])][proteinDict.get(s2[i])])\n",
    "    qi = 0\n",
    "    for i in range(0,len(s1)):\n",
    "        qi += int(blosum[proteinDict.get(s1[i])][proteinDict.get(s1[i])])\n",
    "    qj = 0\n",
    "    for i in range(0,len(s2)):\n",
    "        qj += int(blosum[proteinDict.get(s2[i])][proteinDict.get(s2[i])])\n",
    "    return 1 - (p / (max(qi,qj)))"
   ]
  },
  {
   "cell_type": "markdown",
   "metadata": {},
   "source": [
    "# Structure d'arbre"
   ]
  },
  {
   "cell_type": "code",
   "execution_count": 208,
   "metadata": {},
   "outputs": [],
   "source": [
    "class Tree:\n",
    "    \n",
    "    def __init__(self):\n",
    "        self.root = None\n",
    "        \n",
    "    def setRoot(self,node):\n",
    "        if(self.root == None):\n",
    "            self.root = node\n",
    "            node.setRoot()\n",
    "        else:\n",
    "            return\n",
    "        \n",
    "    def getRoot(self):\n",
    "        return self.root\n",
    "    \n",
    "    #Parcours et affichage postfixe de l'arbre (Internal node = IN)    \n",
    "    #https://stackoverflow.com/questions/2598437/how-to-implement-a-binary-tree\n",
    "    def postorderTrav(self):\n",
    "        if(self.root != None):\n",
    "            return self._postorderTrav(self.root)\n",
    "        \n",
    "    def _postorderTrav(self, node):\n",
    "        if(node != None):\n",
    "            leftList = self._postorderTrav(node.leftChild)\n",
    "            rightList = self._postorderTrav(node.rightChild)\n",
    "            #print(leftList,rightList)\n",
    "            name = node.value if(node.value != None) else (\"Root\" if(node.isRoot) else \"IN\") \n",
    "\n",
    "            return flattenList([leftList,rightList,[name]])\n",
    "        return [None]\n",
    "    \n",
    "    def getLeaves(self):\n",
    "        if(self.root != None):\n",
    "            return self._getLeaves(self.root)\n",
    "        \n",
    "    def _getLeaves(self, node):\n",
    "        if(node != None):\n",
    "            leftList = self._getLeaves(node.leftChild)\n",
    "            rightList = self._getLeaves(node.rightChild)\n",
    "            #print(leftList,rightList)\n",
    "            return flattenList([leftList,rightList,[node.value]])\n",
    "        return [None]"
   ]
  },
  {
   "cell_type": "code",
   "execution_count": 209,
   "metadata": {},
   "outputs": [],
   "source": [
    "class Node:\n",
    "    \n",
    "    def __init__(self,leftChild,rightChild,value):\n",
    "        self.leftChild = leftChild\n",
    "        self.rightChild = rightChild\n",
    "        self.value = value\n",
    "        self.isRoot = False\n",
    "        \n",
    "    def getLeftChild(self):\n",
    "        return self.leftChild\n",
    "    \n",
    "    def getRightChild(self):\n",
    "        return self.rightChild\n",
    "    \n",
    "    def getValue(self):\n",
    "        return self.value\n",
    "    \n",
    "    def setLeftChild(self,leftChild):\n",
    "        self.leftChild = leftChild\n",
    "        \n",
    "    def setRightChild(self,rightChild):\n",
    "        self.rightChild = rightChild\n",
    "        \n",
    "    def setValue(self,value):\n",
    "        self.value = value\n",
    "        \n",
    "    def isLeaf(self):\n",
    "        if(self.leftChild == None and self.rightChild == None):\n",
    "            return True\n",
    "        else:\n",
    "            return False\n",
    "        \n",
    "    def setRoot(self):\n",
    "        self.isRoot = True\n",
    "        \n",
    "    def isRoot(self):\n",
    "        return self.isRoot"
   ]
  },
  {
   "cell_type": "markdown",
   "metadata": {},
   "source": [
    "# Conversion de chaîne Newick"
   ]
  },
  {
   "cell_type": "code",
   "execution_count": 210,
   "metadata": {},
   "outputs": [],
   "source": [
    "def recursiveNewick(newickSS):\n",
    "    #NOTE: on considère les chaînes syntaxiquement correctes\n",
    "    \n",
    "    #parenthèses ouvertes\n",
    "    parOpen = 0\n",
    "    \n",
    "    #index de départ et de fin de chaque côté de la virgule\n",
    "    indexStartL = None\n",
    "    indexEndL = None\n",
    "    indexStartR = None\n",
    "    indexEndR = None\n",
    "    \n",
    "    #cas où la sous-séquence est un label de feuille\n",
    "    if(newickSS[0] != \"(\"):\n",
    "        return Node(None,None,newickSS)\n",
    "    \n",
    "    else:\n",
    "        #passer à travers la chaîne un caractère à la fois\n",
    "        for i in range(len(newickSS)):\n",
    "            #début d'un nouveau node\n",
    "            if(newickSS[i] == \"(\"):\n",
    "                parOpen += 1\n",
    "                if(indexStartL == None):\n",
    "                    indexStartL = i+1\n",
    "            #séparation des deux enfants\n",
    "            if(parOpen == 1 and newickSS[i] == \",\"):\n",
    "                indexEndL = i-1\n",
    "                indexStartR = i+1\n",
    "            #fin du node\n",
    "            if(newickSS[i] == \")\"):\n",
    "                parOpen -= 1\n",
    "                if(parOpen == 0):\n",
    "                    indexEndR = i-1\n",
    "        \n",
    "        leftSS = newickSS[indexStartL:indexEndL+1].strip()\n",
    "        rightSS = newickSS[indexStartR:indexEndR+1].strip()\n",
    "        \n",
    "        #rappeler récursivement sur les deux sous-séquences trouvées\n",
    "        return Node(recursiveNewick(leftSS),recursiveNewick(rightSS),None)"
   ]
  },
  {
   "cell_type": "code",
   "execution_count": 211,
   "metadata": {},
   "outputs": [
    {
     "data": {
      "text/plain": [
       "['OR2J3_Humain',\n",
       " 'PCDHA1_Rat',\n",
       " 'PCDHA1_Souris',\n",
       " 'IN',\n",
       " 'PCDHA1_Bonobo',\n",
       " 'IN',\n",
       " 'Root']"
      ]
     },
     "execution_count": 211,
     "metadata": {},
     "output_type": "execute_result"
    }
   ],
   "source": [
    "#Test de la fonction de conversion de chaînes\n",
    "tree = Tree()\n",
    "tree.setRoot(recursiveNewick(\"(OR2J3_Humain, ((PCDHA1_Rat, PCDHA1_Souris), PCDHA1_Bonobo));\"))\n",
    "tree.postorderTrav()\n",
    "#distanceRF(tree)"
   ]
  },
  {
   "cell_type": "markdown",
   "metadata": {},
   "source": [
    "# Calcul de distance RF"
   ]
  },
  {
   "cell_type": "code",
   "execution_count": 212,
   "metadata": {},
   "outputs": [],
   "source": [
    "def distanceRF(t1,t2):\n",
    "    #Trouver le nombre de bipartitons non-triviales pour chaque arbre\n",
    "    b1 = _distanceRFRec(t1.getRoot(),t1.getLeaves())[1]\n",
    "    b2 = _distanceRFRec(t2.getRoot(),t2.getLeaves())[1]\n",
    "    \n",
    "    #print(b1)\n",
    "    #print(b2)\n",
    "    \n",
    "    #parcourir les combinaisons...\n",
    "    iNot = []\n",
    "    jNot = []\n",
    "    for i in range(len(b1)):\n",
    "        for j in range(len(b2)):\n",
    "            if((len(list(set(b1[i][0]) - set(b2[j][0]))) == 0 and len(b1[i][0]) == len(b2[j][0]))\n",
    "               or (len(list(set(b1[i][0]) - set(b2[j][1]))) == 0 and len(b1[i][0]) == len(b2[j][1]))):\n",
    "                #...et trouver celles qui se retrouvent dans les 2 arbres\n",
    "                #print(b1[i][0],b2[j][0])\n",
    "                iNot.append(i)\n",
    "                jNot.append(j)\n",
    "    \n",
    "    #retourner le nombre de bipartitons uniques à chaque arbre\n",
    "    return len(b1)+len(b2)-len(iNot)-len(jNot)\n",
    "\n",
    "def _distanceRFRec(node,leaves):\n",
    "    #structure N retournée récursivement: [[feuilles_observées],[bipartitions_trouvées]]\n",
    "    \n",
    "    #N gauche\n",
    "    left = []\n",
    "    #N droite\n",
    "    right = []\n",
    "    \n",
    "    #si l'enfant gauche est une feuille, on n'a vu que cette feuille et on n'a aucune bipartition non-triviale\n",
    "    if(node.leftChild.isLeaf()):\n",
    "        left = [[node.leftChild.value],[]]\n",
    "    #sinon, descente récursive\n",
    "    else:\n",
    "        left = _distanceRFRec(node.leftChild,leaves)\n",
    "        \n",
    "    #même chose à droite\n",
    "    if(node.rightChild.isLeaf()):\n",
    "        right = [[node.rightChild.value],[]]\n",
    "    else:\n",
    "        right = _distanceRFRec(node.rightChild,leaves)\n",
    "        \n",
    "    #unir les bipartitons trouvées des deux côtés\n",
    "    bipartitions = flattenList([left[1],right[1]])\n",
    "    \n",
    "    #valeur permettant de couper une seule fois (ou pas du tout) à la racine\n",
    "    oneCut = float(\"inf\")\n",
    "    if(node.isRoot):\n",
    "        #si les deux sous-arbres de la racine ont plus d'une feuille,\n",
    "        #on peut la couper une fois \n",
    "        if(len(left[0]) > 1 and len(right[0]) > 1):\n",
    "            oneCut = 1\n",
    "        #sinon, on ne peut pas couper car trivial\n",
    "        else:\n",
    "            oneCut = 0\n",
    "        \n",
    "    #si non-trivial à gauche et permis de couper,\n",
    "    #on crée une nouvelle bipartiton\n",
    "    if(len(left[0]) > 1 and oneCut > 0):\n",
    "        partition1 = left[0]\n",
    "        partition2 = (list(set(leaves) - set(partition1)))\n",
    "        bipartitions.append([partition1,partition2])\n",
    "        oneCut -= 1\n",
    "\n",
    "    #même chose à droite\n",
    "    if(len(right[0]) > 1 and oneCut > 0):\n",
    "        partition1 = right[0]\n",
    "        partition2 = (list(set(leaves) - set(partition1)))\n",
    "        bipartitions.append([partition1,partition2])\n",
    "     \n",
    "    #unir les feuilles visitées à gauche et à droite\n",
    "    leavesDown = flattenList([left[0],right[0]])\n",
    "    \n",
    "    return [leavesDown,bipartitions]"
   ]
  },
  {
   "cell_type": "markdown",
   "metadata": {},
   "source": [
    "# Neighbour joining"
   ]
  },
  {
   "cell_type": "code",
   "execution_count": 213,
   "metadata": {},
   "outputs": [],
   "source": [
    "def neighbourJoining(matrix,labels):\n",
    "    tree = Tree()\n",
    "    \n",
    "    L =[]\n",
    "    \n",
    "    #Créer les feuilles\n",
    "    for i in range(len(matrix)):\n",
    "        L.append(Node(None,None,labels[i]))\n",
    "            \n",
    "    while(len(L) > 2):\n",
    "        #Trouver paire minimale\n",
    "        minIndex = np.argwhere(matrix == np.min(matrix))[0]\n",
    "        #print(minIndex)\n",
    "        \n",
    "        indexI = minIndex[0]\n",
    "        indexJ = minIndex[1]\n",
    "        \n",
    "        #noeuds associés à l'index minimal\n",
    "        i = L[indexI]\n",
    "        j = L[indexJ]\n",
    "        k = Node(i,j,None) #nouveau noeud ayant i et j comme enfants\n",
    "               \n",
    "        #enlever i et j, ajouter k à L\n",
    "        del L[indexI]\n",
    "        del L[indexJ-(1 if (indexI < indexJ) else 0)]\n",
    "        L.append(k)\n",
    "\n",
    "        #recalculer la matricce de distances\n",
    "        matrix = getNewMatrix(matrix,indexI,indexJ)\n",
    "             \n",
    "    #Transformer la dernière arrête en racine\n",
    "    root = Node(L[0],L[1],None)\n",
    "    tree.setRoot(root)\n",
    "    \n",
    "    return tree"
   ]
  },
  {
   "cell_type": "code",
   "execution_count": 214,
   "metadata": {},
   "outputs": [
    {
     "data": {
      "text/plain": [
       "['E', 'D', 'C', 'A', 'B', 'IN', 'IN', 'IN', 'Root']"
      ]
     },
     "execution_count": 214,
     "metadata": {},
     "output_type": "execute_result"
    }
   ],
   "source": [
    "#Test du neighbour joining\n",
    "matrix = [[float(\"inf\"),1,2,3,4],[1,float(\"inf\"),5,6,7],[2,5,float(\"inf\"),9,10],[3,6,9,float(\"inf\"),11],\n",
    "          [4,7,10,11,float(\"inf\")]]\n",
    "matrix = np.array(matrix)\n",
    "labels = [\"A\",\"B\",\"C\",\"D\",\"E\"]\n",
    "\n",
    "tree = neighbourJoining(matrix,labels)\n",
    "tree.postorderTrav()"
   ]
  },
  {
   "cell_type": "markdown",
   "metadata": {},
   "source": [
    "# Parsing des séquences d'entrée"
   ]
  },
  {
   "cell_type": "code",
   "execution_count": 215,
   "metadata": {},
   "outputs": [],
   "source": [
    "#Créer la 1ere matrice de distances\n",
    "def distMatrix(sequences):\n",
    "    distMatrix = np.diag(np.full((len(sequences[0]),len(sequences[0])),float(\"inf\")).diagonal())\n",
    "    for i in range(0, len(sequences[0])): \n",
    "        for j in range(i+1, len(sequences[0])):\n",
    "            distMatrix[i][j] = distanceBlosum(sequences[1][i],sequences[1][j])\n",
    "            distMatrix[j][i] = distMatrix[i][j]\n",
    "    return distMatrix\n",
    "\n",
    "#Parsing de l'alignement sur fichier d'input\n",
    "def readProteinFile(input):\n",
    "    inputAsList = []\n",
    "    with open(input) as file:\n",
    "        protein = file.readlines()\n",
    "    for i in range (0, len(protein)):\n",
    "        inputAsList.append(protein[i][:-1])\n",
    "    concatenation = \"\"\n",
    "    labels = []\n",
    "    protein = []\n",
    "    for i in range (0, len(inputAsList)):\n",
    "        if (i % 8 == 7) :\n",
    "            protein.append(concatenation)\n",
    "            concatenation = \"\"\n",
    "        elif (i % 8 == 0) :\n",
    "            labels.append(inputAsList[i][1:])\n",
    "        else:\n",
    "            concatenation += inputAsList[i]\n",
    "    return [labels, protein]          "
   ]
  },
  {
   "cell_type": "markdown",
   "metadata": {},
   "source": [
    "# Comparaison entre les chaînes de Newick et l'alignement"
   ]
  },
  {
   "cell_type": "code",
   "execution_count": 216,
   "metadata": {},
   "outputs": [
    {
     "name": "stdout",
     "output_type": "stream",
     "text": [
      "['OR2J3_Humain', 'PCDHA1_Humain', 'PCDHA1_Bonobo', 'IN', 'PCDHA1_Rat', 'PCDHA1_Souris', 'IN', 'IN', 'Root']\n",
      "\n",
      "Distance RF\n",
      "Newick 0: 2\n",
      "Newick 1: 4\n",
      "Newick 2: 4\n",
      "Newick 3: 0\n",
      "Newick 4: 4\n"
     ]
    }
   ],
   "source": [
    "reads = readProteinFile('proteines.fa')\n",
    "labels = reads[0]\n",
    "matrix = distMatrix(reads)\n",
    "\n",
    "treeS = neighbourJoining(matrix,labels)\n",
    "\n",
    "print(treeS.postorderTrav())\n",
    "\n",
    "readsFile = open(\"arbres.nw\", \"r\")\n",
    "readsLines = readsFile.readlines()\n",
    "readsFile.close()\n",
    "\n",
    "print(\"\\nDistance RF\")\n",
    "for i in range(len(readsLines)):\n",
    "    treeN = Tree()\n",
    "    treeN.setRoot(recursiveNewick(readsLines[i]))\n",
    "    #print(treeN.postorderTrav())\n",
    "    print(\"Newick \" + str(i) + \": \" + str(distanceRF(treeS,treeN)))"
   ]
  },
  {
   "cell_type": "markdown",
   "metadata": {},
   "source": [
    "Bref, la 4e chaîne de Newick construit l'arbre ayant la plus grande similarité avec l'alignement multiple en entrée."
   ]
  }
 ],
 "metadata": {
  "kernelspec": {
   "display_name": "Python 3",
   "language": "python",
   "name": "python3"
  },
  "language_info": {
   "codemirror_mode": {
    "name": "ipython",
    "version": 3
   },
   "file_extension": ".py",
   "mimetype": "text/x-python",
   "name": "python",
   "nbconvert_exporter": "python",
   "pygments_lexer": "ipython3",
   "version": "3.7.0"
  }
 },
 "nbformat": 4,
 "nbformat_minor": 2
}
